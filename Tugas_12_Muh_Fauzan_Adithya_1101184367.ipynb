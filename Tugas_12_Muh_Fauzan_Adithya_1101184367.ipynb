{
  "nbformat": 4,
  "nbformat_minor": 0,
  "metadata": {
    "colab": {
      "name": "Tugas 12 Muh. Fauzan Adithya_1101184367.ipynb",
      "provenance": [],
      "authorship_tag": "ABX9TyNDI35yvJ+AlzyEEGNlQBpb",
      "include_colab_link": true
    },
    "kernelspec": {
      "name": "python3",
      "display_name": "Python 3"
    }
  },
  "cells": [
    {
      "cell_type": "markdown",
      "metadata": {
        "id": "view-in-github",
        "colab_type": "text"
      },
      "source": [
        "<a href=\"https://colab.research.google.com/github/FauzanAdithya/Python-Model-and-Simulation/blob/main/Tugas_12_Muh_Fauzan_Adithya_1101184367.ipynb\" target=\"_parent\"><img src=\"https://colab.research.google.com/assets/colab-badge.svg\" alt=\"Open In Colab\"/></a>"
      ]
    },
    {
      "cell_type": "code",
      "metadata": {
        "id": "_DbUuCA9FH_5"
      },
      "source": [
        "import numpy as Fauzan"
      ],
      "execution_count": 1,
      "outputs": []
    },
    {
      "cell_type": "code",
      "metadata": {
        "id": "oMBAcJqsFNTr"
      },
      "source": [
        "#c1_value = fc\r\n",
        "\r\n",
        "def c1(c1_value) :\r\n",
        "  if c1_value in range(400,1500) :\r\n",
        "    return 69.55\r\n",
        "  elif c1_value in range(1500,2000) :\r\n",
        "    return 46.3\r\n",
        "  else : return 0"
      ],
      "execution_count": 2,
      "outputs": []
    },
    {
      "cell_type": "code",
      "metadata": {
        "id": "4NmAfNQ_FNWs"
      },
      "source": [
        "#c2_value = fc\r\n",
        "\r\n",
        "def c2(c2_value):\r\n",
        "  if c2_value in range(400,1500):\r\n",
        "    return 26.16\r\n",
        "  elif c2_value in range(1500,2000):\r\n",
        "    return 33.9\r\n",
        "  else: return 0"
      ],
      "execution_count": 3,
      "outputs": []
    },
    {
      "cell_type": "code",
      "metadata": {
        "id": "5wRxWXcjFNfo"
      },
      "source": [
        "def ahr(fc,hr):\r\n",
        "  x=(1.1*Fauzan.log10(fc)-0.7)*hr-(1.56*Fauzan.log10(fc)-0.8)\r\n",
        "  return x"
      ],
      "execution_count": 4,
      "outputs": []
    },
    {
      "cell_type": "code",
      "metadata": {
        "id": "kiGvgkpzFNh4"
      },
      "source": [
        "#suburban\r\n",
        "SU = lambda x: -2*Fauzan.log10(x/28)*Fauzan.log10(x/28)-5.4"
      ],
      "execution_count": 5,
      "outputs": []
    },
    {
      "cell_type": "code",
      "metadata": {
        "id": "A1T2bqZkFNkP"
      },
      "source": [
        "#open\r\n",
        "Op = lambda x: -4.78*Fauzan.log10(x)*Fauzan.log10(x)+18.33*Fauzan.log10(x)-40.94"
      ],
      "execution_count": 6,
      "outputs": []
    },
    {
      "cell_type": "code",
      "metadata": {
        "id": "OTUH0hj-FNme"
      },
      "source": [
        "def Ptl(fc,hT,hr,d,Cm):\r\n",
        "  #mencari nilai c1 dari frekuensi\r\n",
        "  C1=c1(fc)\r\n",
        "  #mencari nilai c2 dari frekuensi\r\n",
        "  C2=c2(fc)\r\n",
        "  #mencari nilai a(hR)\r\n",
        "  ahR=ahr(fc,hr)\r\n",
        "\r\n",
        "  #rumus cost 231 pathloss model\r\n",
        "  Lp=C1+C2*Fauzan.log10(fc)-13.83*Fauzan.log10(hT)-ahR+(44.9-6.55*Fauzan.log10(hT))*Fauzan.log10(d)+Cm\r\n",
        "  print(Lp)\r\n",
        "  return Lp"
      ],
      "execution_count": 7,
      "outputs": []
    },
    {
      "cell_type": "code",
      "metadata": {
        "colab": {
          "base_uri": "https://localhost:8080/"
        },
        "id": "-tSKPTsBFNop",
        "outputId": "8b6604f5-2f64-417f-d948-9b0169fd0a2f"
      },
      "source": [
        "#Mhz 150 s.d 2000\r\n",
        "fc=int(input(\"Frekuensi (150 s.d 2000): \"))\r\n",
        "\r\n",
        "#meter 30 s.d 200\r\n",
        "hT=int(input(\"Tinggi Antena Tx (30 s.d 200): \"))\r\n",
        "\r\n",
        "#meter 1 s.d 30\r\n",
        "hr=int(input(\"Tinggi Antena Rx (1 s.d 30): \"))      \r\n",
        "d=int(input(\"Jarak : \")) #Km\r\n",
        "\r\n",
        "\r\n",
        "# 1=urban   2=suburban    3=open\r\n",
        "area=int(input(\"Masukkan area ( 1 = Urban || 2 = Suburban || 3 = Open) : \"))    \r\n",
        "\r\n",
        "#mendapatkan nilai Cm berdasarkan area\r\n",
        "if area==1:\r\n",
        "  Cm=0\r\n",
        "elif area==2:\r\n",
        "  Cm=SU(fc)\r\n",
        "elif area==3:\r\n",
        "  Cm=Op(fc)\r\n",
        "else: print(\"Tidak ada opsi\")\r\n",
        "\r\n",
        "#menghitung pathloss\r\n",
        "Lp=Ptl(fc, hT, hr, d, Cm)\r\n",
        "print(\"Nilai Pathloss dalam dB =\", Lp,\"dB\")"
      ],
      "execution_count": 9,
      "outputs": [
        {
          "output_type": "stream",
          "text": [
            "Frekuensi (150 s.d 2000): 680\n",
            "Tinggi Antena Tx (30 s.d 200): 130\n",
            "Tinggi Antena Rx (1 s.d 30): 5\n",
            "Jarak : 12000\n",
            "Masukkan area ( 1 = Urban || 2 = Suburban || 3 = Open) : 2\n",
            "223.38766988598724\n",
            "Nilai Pathloss dalam dB = 223.38766988598724 dB\n"
          ],
          "name": "stdout"
        }
      ]
    }
  ]
}